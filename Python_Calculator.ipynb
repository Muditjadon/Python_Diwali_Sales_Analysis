{
 "cells": [
  {
   "cell_type": "code",
   "execution_count": null,
   "id": "35e59f90-3ece-4350-979d-4462e989002f",
   "metadata": {},
   "outputs": [
    {
     "name": "stdout",
     "output_type": "stream",
     "text": [
      "Please select a operation:\n",
      " 1. Addition\n",
      "2. Substraction\n",
      "3. Multiplication\n",
      "4. Division\n",
      "5. Average\n",
      "\n"
     ]
    },
    {
     "name": "stdin",
     "output_type": "stream",
     "text": [
      "Select a operation from 1,2,3,4,5:  2\n",
      "Enter first number:  5\n",
      "Enter second number:  3\n"
     ]
    },
    {
     "name": "stdout",
     "output_type": "stream",
     "text": [
      "5 - 3 =  2\n"
     ]
    }
   ],
   "source": [
    "# python program to create a simple calculator\n",
    "\n",
    "# 3 steps to build calculator program\n",
    "#   1. functions for operations \n",
    "#   2. user input \n",
    "#   3. print result \n",
    "\n",
    "# step-1: create functions:\n",
    "# Function to add two numbers \n",
    "def add(num1,num2):\n",
    "     return num1 + num2 \n",
    "\n",
    "# Function to substract two numbers \n",
    "def sub(num1,num2):\n",
    "     return num1 - num2 \n",
    "\n",
    "# Function to multiply two numbers \n",
    "def multiply(num1,num2):\n",
    "     return num1 * num2  \n",
    "\n",
    "# Function to divide two numbers \n",
    "def divide(num1,num2):\n",
    "     return num1 / num2 \n",
    "\n",
    "# Function to average two numbers \n",
    "def avg(num1,num2):\n",
    "     return (num1 + num2)/2  \n",
    "\n",
    "#Step-2: user input \n",
    "print(\"Please select a operation:\\n \" \\\n",
    "      \"1. Addition\\n\" \\\n",
    "      \"2. Substraction\\n\" \\\n",
    "      \"3. Multiplication\\n\" \\\n",
    "      \"4. Division\\n\" \\\n",
    "      \"5. Average\\n\") \n",
    "\n",
    "select = int(input(\"Select a operation from 1,2,3,4,5: \")) \n",
    "\n",
    "number1 = int(input(\"Enter first number: \"))\n",
    "number2 = int(input(\"Enter second number: \"))\n",
    "\n",
    "#Step-3: Print the result \n",
    "\n",
    "if select == 1:\n",
    "     print(number1, \"+\", number2, \"= \", \\\n",
    "           add(number1, number2))\n",
    "     \n",
    "elif select == 2:\n",
    "     print(number1, \"-\", number2, \"= \", \\\n",
    "           sub(number1, number2)) \n",
    "     \n",
    "elif select == 3:\n",
    "     print(number1, \"*\", number2, \"= \", \\\n",
    "           multiply(number1, number2))\n",
    "     \n",
    "elif select == 4:\n",
    "     print(number1, \"/\", number2, \"= \", \\\n",
    "           divide(number1, number2))\n",
    "\n",
    "elif select == 5:\n",
    "     print(\"(\",number1, \"+\", number2, \")\", \"/\", \"2\", \"= \", \\\n",
    "           avg(number1, number2)) \n",
    "    \n",
    "else:\n",
    "     print(\"Invalid operation! Pls select again!\")\n",
    "\n",
    "if __name__ == \"__main__\":\n",
    "    root = tk.Tk()\n",
    "    app = CalculatorApp(root)\n",
    "    root.mainloop()"
   ]
  },
  {
   "cell_type": "code",
   "execution_count": null,
   "id": "a38c1bbb-f06b-4b4f-a04e-e27114747933",
   "metadata": {},
   "outputs": [],
   "source": []
  },
  {
   "cell_type": "code",
   "execution_count": null,
   "id": "fce7cb87-1ca4-461d-b141-62e44e426d0d",
   "metadata": {},
   "outputs": [],
   "source": []
  }
 ],
 "metadata": {
  "kernelspec": {
   "display_name": "Python 3 (ipykernel)",
   "language": "python",
   "name": "python3"
  },
  "language_info": {
   "codemirror_mode": {
    "name": "ipython",
    "version": 3
   },
   "file_extension": ".py",
   "mimetype": "text/x-python",
   "name": "python",
   "nbconvert_exporter": "python",
   "pygments_lexer": "ipython3",
   "version": "3.12.4"
  }
 },
 "nbformat": 4,
 "nbformat_minor": 5
}
